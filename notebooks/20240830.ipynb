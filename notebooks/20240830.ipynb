{
 "cells": [
  {
   "cell_type": "code",
   "execution_count": 101,
   "metadata": {},
   "outputs": [],
   "source": [
    "import torch\n",
    "from torch import Tensor, nn\n",
    "from torch.nn import Module, Parameter\n",
    "from torch.nn import functional as F\n",
    "\n",
    "class ExponentialDecay(Module):\n",
    "    def __init__(self, in_dim, out_dim, n_units, n_components) -> None:\n",
    "        super().__init__()\n",
    "        \n",
    "        self.decay_rates = nn.Parameter(torch.rand(n_components, 1)) # (n_components, 1)\n",
    "        self.roll_out = torch.arange(out_dim).unsqueeze(0) # (1, out_dim)\n",
    "        self.layers = nn.Sequential(\n",
    "            nn.Linear(in_dim, n_units),\n",
    "            nn.GELU(),\n",
    "            nn.Linear(n_units, n_components),\n",
    "            nn.ReLU(), # must be postive\n",
    "        ) # output: (bs, n_components)\n",
    "\n",
    "    def forward(self, x: Tensor) -> Tensor:\n",
    "        c = self.layers(x)\n",
    "        base = torch.exp(-self.decay_rates * self.roll_out) # (n_components, out_dim)\n",
    "        y = c @ base # (bs, out_dim)\n",
    "        return y\n",
    "\n"
   ]
  },
  {
   "cell_type": "code",
   "execution_count": 102,
   "metadata": {},
   "outputs": [],
   "source": [
    "bs = 2\n",
    "in_dim = 20\n",
    "out_dim = 5\n",
    "n_units = 20\n",
    "n_components = 3\n",
    "x = torch.randn(bs, in_dim)"
   ]
  },
  {
   "cell_type": "code",
   "execution_count": 103,
   "metadata": {},
   "outputs": [],
   "source": [
    "model = ExponentialDecay(in_dim, out_dim, n_units, n_components)"
   ]
  },
  {
   "cell_type": "code",
   "execution_count": 104,
   "metadata": {},
   "outputs": [],
   "source": [
    "x = model(x)"
   ]
  },
  {
   "cell_type": "code",
   "execution_count": 105,
   "metadata": {},
   "outputs": [
    {
     "data": {
      "text/plain": [
       "tensor([[0.5630, 0.3370, 0.2018, 0.1208, 0.0723],\n",
       "        [0.1488, 0.0635, 0.0271, 0.0116, 0.0049]], grad_fn=<MmBackward0>)"
      ]
     },
     "execution_count": 105,
     "metadata": {},
     "output_type": "execute_result"
    }
   ],
   "source": [
    "x"
   ]
  },
  {
   "cell_type": "code",
   "execution_count": 91,
   "metadata": {},
   "outputs": [
    {
     "data": {
      "text/plain": [
       "tensor([[ 3.0000,  0.6386,  0.1720,  0.0547,  0.0190],\n",
       "        [12.0000,  5.1482,  3.6329,  3.2115,  3.0749]])"
      ]
     },
     "execution_count": 91,
     "metadata": {},
     "output_type": "execute_result"
    }
   ],
   "source": [
    "r0 @ base"
   ]
  },
  {
   "cell_type": "code",
   "execution_count": null,
   "metadata": {},
   "outputs": [],
   "source": []
  },
  {
   "cell_type": "code",
   "execution_count": null,
   "metadata": {},
   "outputs": [],
   "source": []
  }
 ],
 "metadata": {
  "kernelspec": {
   "display_name": "Python 3",
   "language": "python",
   "name": "python3"
  },
  "language_info": {
   "codemirror_mode": {
    "name": "ipython",
    "version": 3
   },
   "file_extension": ".py",
   "mimetype": "text/x-python",
   "name": "python",
   "nbconvert_exporter": "python",
   "pygments_lexer": "ipython3",
   "version": "3.10.12"
  }
 },
 "nbformat": 4,
 "nbformat_minor": 2
}
