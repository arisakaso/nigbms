{
 "cells": [
  {
   "cell_type": "code",
   "execution_count": 3,
   "metadata": {},
   "outputs": [
    {
     "name": "stdout",
     "output_type": "stream",
     "text": [
      "torch.Size([1, 5])\n"
     ]
    }
   ],
   "source": [
    "import torch\n",
    "\n",
    "class Bottlrneck(torch.nn.Module):\n",
    "    def __init__(self,In_channel,Med_channel,Out_channel,downsample=False):\n",
    "        super(Bottlrneck, self).__init__()\n",
    "        self.stride = 1\n",
    "        if downsample == True:\n",
    "            self.stride = 2\n",
    "\n",
    "        self.layer = torch.nn.Sequential(\n",
    "            torch.nn.Conv1d(In_channel, Med_channel, 1, self.stride),\n",
    "            torch.nn.BatchNorm1d(Med_channel),\n",
    "            torch.nn.ReLU(),\n",
    "            torch.nn.Conv1d(Med_channel, Med_channel, 3, padding=1),\n",
    "            torch.nn.BatchNorm1d(Med_channel),\n",
    "            torch.nn.ReLU(),\n",
    "            torch.nn.Conv1d(Med_channel, Out_channel, 1),\n",
    "            torch.nn.BatchNorm1d(Out_channel),\n",
    "            torch.nn.ReLU(),\n",
    "        )\n",
    "\n",
    "        if In_channel != Out_channel:\n",
    "            self.res_layer = torch.nn.Conv1d(In_channel, Out_channel,1,self.stride)\n",
    "        else:\n",
    "            self.res_layer = None\n",
    "\n",
    "    def forward(self,x):\n",
    "        if self.res_layer is not None:\n",
    "            residual = self.res_layer(x)\n",
    "        else:\n",
    "            residual = x\n",
    "        return self.layer(x)+residual\n",
    "\n",
    "\n",
    "class ResNet50(torch.nn.Module):\n",
    "    def __init__(self,in_channels=2,classes=125):\n",
    "        super(ResNet50, self).__init__()\n",
    "        self.features = torch.nn.Sequential(\n",
    "            torch.nn.Conv1d(in_channels,64,kernel_size=7,stride=2,padding=3),\n",
    "            torch.nn.MaxPool1d(3,2,1),\n",
    "\n",
    "            Bottlrneck(64,64,256,False),\n",
    "            Bottlrneck(256,64,256,False),\n",
    "            Bottlrneck(256,64,256,False),\n",
    "            #\n",
    "            Bottlrneck(256,128,512, True),\n",
    "            Bottlrneck(512,128,512, False),\n",
    "            Bottlrneck(512,128,512, False),\n",
    "            Bottlrneck(512,128,512, False),\n",
    "            #\n",
    "            Bottlrneck(512,256,1024, True),\n",
    "            Bottlrneck(1024,256,1024, False),\n",
    "            Bottlrneck(1024,256,1024, False),\n",
    "            Bottlrneck(1024,256,1024, False),\n",
    "            Bottlrneck(1024,256,1024, False),\n",
    "            Bottlrneck(1024,256,1024, False),\n",
    "            #\n",
    "            Bottlrneck(1024,512,2048, True),\n",
    "            Bottlrneck(2048,512,2048, False),\n",
    "            Bottlrneck(2048,512,2048, False),\n",
    "\n",
    "            torch.nn.AdaptiveAvgPool1d(1)\n",
    "        )\n",
    "        self.classifer = torch.nn.Sequential(\n",
    "            torch.nn.Linear(2048,classes)\n",
    "        )\n",
    "\n",
    "    def forward(self,x):\n",
    "        x = self.features(x)\n",
    "        x = x.view(-1,2048)\n",
    "        x = self.classifer(x)\n",
    "        return x\n",
    "\n",
    "if __name__ == '__main__':\n",
    "    x = torch.randn(size=(1,1,224))\n",
    "    # x = torch.randn(size=(1,64,224))\n",
    "    # model = Bottlrneck(64,64,256,True)\n",
    "    model = ResNet50(in_channels=1,classes=5)\n",
    "\n",
    "    output = model(x)\n",
    "    print(output.shape)\n",
    "\n"
   ]
  },
  {
   "cell_type": "code",
   "execution_count": 7,
   "metadata": {},
   "outputs": [
    {
     "data": {
      "text/plain": [
       "torch.Size([1, 200])"
      ]
     },
     "execution_count": 7,
     "metadata": {},
     "output_type": "execute_result"
    }
   ],
   "source": [
    "input = torch.randn(1, 2, 100)\n",
    "model(input).shape"
   ]
  },
  {
   "cell_type": "code",
   "execution_count": null,
   "metadata": {},
   "outputs": [],
   "source": []
  }
 ],
 "metadata": {
  "kernelspec": {
   "display_name": "Python 3",
   "language": "python",
   "name": "python3"
  },
  "language_info": {
   "codemirror_mode": {
    "name": "ipython",
    "version": 3
   },
   "file_extension": ".py",
   "mimetype": "text/x-python",
   "name": "python",
   "nbconvert_exporter": "python",
   "pygments_lexer": "ipython3",
   "version": "3.10.12"
  }
 },
 "nbformat": 4,
 "nbformat_minor": 2
}
