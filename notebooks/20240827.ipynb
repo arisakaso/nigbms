{
 "cells": [
  {
   "cell_type": "code",
   "execution_count": 1,
   "metadata": {},
   "outputs": [
    {
     "name": "stdout",
     "output_type": "stream",
     "text": [
      "a:\n",
      "  b: c\n",
      "\n"
     ]
    }
   ],
   "source": [
    "from omegaconf import OmegaConf\n",
    "\n",
    "def remove_duplicates(config):\n",
    "    to_remove = set()\n",
    "    for key in config.keys():\n",
    "        if '.' in key:\n",
    "            root = key.split('.', 1)[0]\n",
    "            if root in config:\n",
    "                to_remove.add(key)\n",
    "    \n",
    "    for key in to_remove:\n",
    "        del config[key]\n",
    "\n",
    "    return config\n",
    "\n",
    "# サンプルDictConfig\n",
    "config_dict = {\n",
    "    'a': {'b': 'c'},\n",
    "    'a.b': 'c'\n",
    "}\n",
    "\n",
    "config = OmegaConf.create(config_dict)\n",
    "\n",
    "# 重複の削除\n",
    "cleaned_config = remove_duplicates(config)\n",
    "\n",
    "print(OmegaConf.to_yaml(cleaned_config))"
   ]
  },
  {
   "cell_type": "code",
   "execution_count": null,
   "metadata": {},
   "outputs": [],
   "source": []
  }
 ],
 "metadata": {
  "kernelspec": {
   "display_name": "Python 3",
   "language": "python",
   "name": "python3"
  },
  "language_info": {
   "codemirror_mode": {
    "name": "ipython",
    "version": 3
   },
   "file_extension": ".py",
   "mimetype": "text/x-python",
   "name": "python",
   "nbconvert_exporter": "python",
   "pygments_lexer": "ipython3",
   "version": "3.10.12"
  }
 },
 "nbformat": 4,
 "nbformat_minor": 2
}
